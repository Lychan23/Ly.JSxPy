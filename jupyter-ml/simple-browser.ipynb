{
 "cells": [
  {
   "cell_type": "code",
   "execution_count": 1,
   "metadata": {},
   "outputs": [
    {
     "name": "stdout",
     "output_type": "stream",
     "text": [
      "Requirement already satisfied: requests in x:\\ly.jsxpy\\deps\\lib\\site-packages (2.32.3)\n",
      "Requirement already satisfied: beautifulsoup4 in x:\\ly.jsxpy\\deps\\lib\\site-packages (4.12.3)\n",
      "Note: you may need to restart the kernel to use updated packages.\n"
     ]
    },
    {
     "name": "stderr",
     "output_type": "stream",
     "text": [
      "ERROR: Could not find a version that satisfies the requirement tkinter (from versions: none)\n",
      "ERROR: No matching distribution found for tkinter\n"
     ]
    }
   ],
   "source": [
    "%pip install requests beautifulsoup4 python-dotenv"
   ]
  },
  {
   "cell_type": "code",
   "execution_count": 3,
   "metadata": {},
   "outputs": [
    {
     "name": "stderr",
     "output_type": "stream",
     "text": [
      "x:\\Ly.JSxPY\\deps\\lib\\site-packages\\tqdm\\auto.py:21: TqdmWarning: IProgress not found. Please update jupyter and ipywidgets. See https://ipywidgets.readthedocs.io/en/stable/user_install.html\n",
      "  from .autonotebook import tqdm as notebook_tqdm\n",
      "x:\\Ly.JSxPY\\deps\\lib\\site-packages\\transformers\\tokenization_utils_base.py:1601: FutureWarning: `clean_up_tokenization_spaces` was not set. It will be set to `True` by default. This behavior will be depracted in transformers v4.45, and will be then set to `False` by default. For more details check this issue: https://github.com/huggingface/transformers/issues/31884\n",
      "  warnings.warn(\n",
      "Some weights of DistilBertForSequenceClassification were not initialized from the model checkpoint at distilbert-base-uncased and are newly initialized: ['classifier.bias', 'classifier.weight', 'pre_classifier.bias', 'pre_classifier.weight']\n",
      "You should probably TRAIN this model on a down-stream task to be able to use it for predictions and inference.\n",
      "INFO:root:Successfully scraped content from https://en.wikipedia.org/wiki/Machine_learning\n",
      "INFO:root:Text analysis result: tensor([[-0.1683, -0.1442]])\n"
     ]
    }
   ],
   "source": [
    "import requests\n",
    "from bs4 import BeautifulSoup\n",
    "import re\n",
    "import logging\n",
    "import tkinter as tk\n",
    "from tkinter import scrolledtext\n",
    "import os\n",
    "from dotenv import load_dotenv\n",
    "from transformers import DistilBertTokenizer, DistilBertForSequenceClassification\n",
    "import torch\n",
    "\n",
    "# Load environment variables from .env file\n",
    "load_dotenv()\n",
    "\n",
    "# Get API key and custom search engine ID from environment variables\n",
    "API_KEY = os.getenv('GOOGLE_API_KEY')\n",
    "CX = os.getenv('GOOGLE_CX')\n",
    "\n",
    "# Set up logging\n",
    "logging.basicConfig(level=logging.INFO)\n",
    "\n",
    "# Load pre-trained DistilBERT model and tokenizer\n",
    "tokenizer = DistilBertTokenizer.from_pretrained('distilbert-base-uncased')\n",
    "model = DistilBertForSequenceClassification.from_pretrained('distilbert-base-uncased')\n",
    "\n",
    "def google_search(query: str):\n",
    "    \"\"\"Perform a Google search using the Custom Search JSON API.\"\"\"\n",
    "    url = f'https://www.googleapis.com/customsearch/v1?q={query}&key={API_KEY}&cx={CX}'\n",
    "    try:\n",
    "        response = requests.get(url)\n",
    "        response.raise_for_status()\n",
    "        return response.json()\n",
    "    except requests.exceptions.RequestException as e:\n",
    "        logging.error(f\"Request failed: {e}\")\n",
    "        return {}\n",
    "\n",
    "def get_top_results(results):\n",
    "    \"\"\"Extract top search results from the Google search API response.\"\"\"\n",
    "    items = results.get('items', [])\n",
    "    return [{'title': item.get('title'), 'link': item.get('link'), 'snippet': item.get('snippet')}\n",
    "            for item in items[:5]]\n",
    "\n",
    "def clean_text(text):\n",
    "    \"\"\"Clean and normalize the text.\"\"\"\n",
    "    return re.sub(r'\\s+', ' ', text).strip()\n",
    "\n",
    "def scrape_website(url):\n",
    "    \"\"\"Scrape text content from a given website URL.\"\"\"\n",
    "    try:\n",
    "        response = requests.get(url, timeout=10)\n",
    "        soup = BeautifulSoup(response.text, 'html.parser')\n",
    "        for script in soup([\"script\", \"style\"]):\n",
    "            script.decompose()\n",
    "        text = soup.get_text()\n",
    "        lines = (line.strip() for line in text.splitlines())\n",
    "        chunks = (phrase.strip() for line in lines for phrase in line.split(\"  \"))\n",
    "        text = '\\n'.join(chunk for chunk in chunks if chunk)\n",
    "        logging.info(f\"Successfully scraped content from {url}\")\n",
    "        return clean_text(text)\n",
    "    except requests.exceptions.RequestException as e:\n",
    "        logging.error(f\"Failed to retrieve {url}: {e}\")\n",
    "        return \"\"\n",
    "\n",
    "def analyze_text(text: str) -> torch.Tensor:\n",
    "    \"\"\"Analyze text using DistilBERT.\"\"\"\n",
    "    inputs = tokenizer(text, return_tensors='pt', truncation=True, padding=True)\n",
    "    with torch.no_grad():\n",
    "        outputs = model(**inputs)\n",
    "    return outputs.logits\n",
    "\n",
    "# GUI Functions\n",
    "def perform_search():\n",
    "    query = entry.get()\n",
    "    results = google_search(query)\n",
    "    top_results = get_top_results(results)\n",
    "    listbox.delete(0, tk.END)\n",
    "    for result in top_results:\n",
    "        listbox.insert(tk.END, result['title'])\n",
    "\n",
    "def show_content(event):\n",
    "    selected = listbox.curselection()\n",
    "    if selected:\n",
    "        index = selected[0]\n",
    "        url = get_top_results(google_search(entry.get()))[index]['link']\n",
    "        content = scrape_website(url)\n",
    "        text_area.delete('1.0', tk.END)\n",
    "        text_area.insert(tk.END, content)\n",
    "\n",
    "        # Analyze content with DistilBERT\n",
    "        analysis = analyze_text(content)\n",
    "        logging.info(f\"Text analysis result: {analysis}\")\n",
    "\n",
    "# Create the GUI\n",
    "root = tk.Tk()\n",
    "root.title(\"Simple Browser\")\n",
    "\n",
    "# Search Bar\n",
    "tk.Label(root, text=\"Search:\").pack(padx=10, pady=5)\n",
    "entry = tk.Entry(root, width=50)\n",
    "entry.pack(padx=10, pady=5)\n",
    "tk.Button(root, text=\"Search\", command=perform_search).pack(pady=5)\n",
    "\n",
    "# Results Listbox\n",
    "listbox = tk.Listbox(root, width=100, height=10)\n",
    "listbox.pack(padx=10, pady=5)\n",
    "listbox.bind(\"<Double-1>\", show_content)\n",
    "\n",
    "# Content Display\n",
    "text_area = scrolledtext.ScrolledText(root, width=100, height=20)\n",
    "text_area.pack(padx=10, pady=5)\n",
    "\n",
    "root.mainloop()\n"
   ]
  }
 ],
 "metadata": {
  "kernelspec": {
   "display_name": "deps",
   "language": "python",
   "name": "python3"
  },
  "language_info": {
   "codemirror_mode": {
    "name": "ipython",
    "version": 3
   },
   "file_extension": ".py",
   "mimetype": "text/x-python",
   "name": "python",
   "nbconvert_exporter": "python",
   "pygments_lexer": "ipython3",
   "version": "3.10.4"
  }
 },
 "nbformat": 4,
 "nbformat_minor": 2
}
